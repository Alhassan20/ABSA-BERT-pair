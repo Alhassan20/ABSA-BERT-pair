{
  "nbformat": 4,
  "nbformat_minor": 0,
  "metadata": {
    "colab": {
      "name": "Semantic Similarity by Word2Vec.ipynb",
      "provenance": [],
      "authorship_tag": "ABX9TyOrB+/VMA2nfgOosyBFz1W8",
      "include_colab_link": true
    },
    "kernelspec": {
      "name": "python3",
      "display_name": "Python 3"
    }
  },
  "cells": [
    {
      "cell_type": "markdown",
      "metadata": {
        "id": "view-in-github",
        "colab_type": "text"
      },
      "source": [
        "<a href=\"https://colab.research.google.com/github/Alhassan20/ABSA-BERT-pair/blob/master/Semantic_Similarity_by_Word2Vec.ipynb\" target=\"_parent\"><img src=\"https://colab.research.google.com/assets/colab-badge.svg\" alt=\"Open In Colab\"/></a>"
      ]
    },
    {
      "cell_type": "code",
      "metadata": {
        "id": "rVXNcja7SSrv",
        "colab_type": "code",
        "colab": {
          "base_uri": "https://localhost:8080/",
          "height": 71
        },
        "outputId": "91cf692e-5681-4a49-b6b1-14d33c4c2718"
      },
      "source": [
        "import gensim\n",
        "import warnings\n",
        "warnings.filterwarnings(action='ignore', category=UserWarning, module='gensim')\n",
        "from gensim.models.keyedvectors import KeyedVectors\n",
        "from numpy import dot\n",
        "from numpy.linalg import norm\n",
        "\n",
        "def cosine_sim(a,b):\n",
        "    return dot(a, b)/(norm(a)*norm(b))\n",
        "\n",
        "# load the w2v model\n",
        "path_pretraind_model='https://s3.amazonaws.com/dl4j-distribution/GoogleNews-vectors-negative300.bin.gz'  #set as the path of pretraind model \n",
        "model = KeyedVectors.load_word2vec_format(path_pretraind_model, binary=True)"
      ],
      "execution_count": 1,
      "outputs": [
        {
          "output_type": "stream",
          "text": [
            "/usr/local/lib/python3.6/dist-packages/smart_open/smart_open_lib.py:253: UserWarning: This function is deprecated, use smart_open.open instead. See the migration notes for details: https://github.com/RaRe-Technologies/smart_open/blob/master/README.rst#migrating-to-the-new-open-function\n",
            "  'See the migration notes for details: %s' % _MIGRATION_NOTES_URL\n"
          ],
          "name": "stderr"
        }
      ]
    },
    {
      "cell_type": "code",
      "metadata": {
        "id": "5NCURIDJSToP",
        "colab_type": "code",
        "colab": {
          "base_uri": "https://localhost:8080/",
          "height": 34
        },
        "outputId": "65f014c2-c7ac-406d-9179-c79b85f7a4ce"
      },
      "source": [
        "domain='laptop'\n",
        "aspects=[  'size','resolution','screen','dimensions']\n",
        "#aspects=[  'charge','battery']\n",
        "\n",
        "#aspects=[ 'screen', 'cpu', 'size', 'mouse','keyboard', 'weight', 'memory', 'processor']\n",
        "\n",
        "avrsim=[]\n",
        "#compute cosine similarity between each word in wlist with the other words in wlist  \n",
        "for i in range(len(aspects)):\n",
        "    word=aspects[i]\n",
        "    totalsim=0\n",
        "    wordembed=model[word] \n",
        "    for j in range(len(aspects)):\n",
        "        if i!=j:\n",
        "            word2embed=model[domain]#model[wlist[j]] \n",
        "            totalsim+=cosine_sim(wordembed, word2embed)\n",
        "    avrsim.append(totalsim/ (len(aspects)-1)) #add the average similarity between word and any other words in wlist   \n",
        "\n",
        "index_max=avrsim.index(max(avrsim)) #get max similarity        \n",
        "print(aspects[index_max])\n"
      ],
      "execution_count": 21,
      "outputs": [
        {
          "output_type": "stream",
          "text": [
            "screen\n"
          ],
          "name": "stdout"
        }
      ]
    },
    {
      "cell_type": "code",
      "metadata": {
        "id": "pDzZv4rJSylp",
        "colab_type": "code",
        "colab": {}
      },
      "source": [
        "###########################################################################################################################################################################"
      ],
      "execution_count": 23,
      "outputs": []
    },
    {
      "cell_type": "code",
      "metadata": {
        "id": "A-iByyKoWjbi",
        "colab_type": "code",
        "colab": {}
      },
      "source": [
        "#wlist = ['asus', 'apple', 'dell', 'laptop', 'hp']\n",
        "#wlist=[ 'screen', 'price', 'size','ram','keyboard','mouse','weight','cpu' ,'battery','memory', 'laptop', 'processor']\n",
        "wlist=[ 'screen', 'size','dimensions']\n",
        "for i in range(len(wlist)):\n",
        "    word=wlist[i]\n",
        "    totalsim=0\n",
        "    wordembed=model[word] \n",
        "    for j in range(len(wlist)):\n",
        "        if i!=j:\n",
        "            word2embed=model[wlist[j]] \n",
        "            totalsim+=cosine_sim(wordembed, word2embed)\n",
        "    print(wlist[i]+\"\\t\\t\"+str(totalsim))"
      ],
      "execution_count": null,
      "outputs": []
    }
  ]
}